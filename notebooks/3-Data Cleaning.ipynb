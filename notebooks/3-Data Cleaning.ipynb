{
 "cells": [
  {
   "cell_type": "code",
   "execution_count": 3,
   "metadata": {},
   "outputs": [],
   "source": [
    "# In this Notebook we clean the data from duplicates , Handle missing values and edit the columns values like the {age} column "
   ]
  },
  {
   "cell_type": "code",
   "execution_count": 4,
   "metadata": {},
   "outputs": [],
   "source": [
    "# Constants\n",
    "DATA_PATH = '../data/raw/train_users_2.csv'\n",
    "EXPORT_PATH = \"../data/processed/1_preprocessed_df.pkl\"\n",
    "EXPORT_PATH2 = \"../data/processed/2_preprocessed_df.pkl\""
   ]
  },
  {
   "cell_type": "code",
   "execution_count": 5,
   "metadata": {},
   "outputs": [
    {
     "name": "stderr",
     "output_type": "stream",
     "text": [
      "C:\\Users\\user\\Anaconda3\\lib\\site-packages\\pandas\\compat\\_optional.py:138: UserWarning: Pandas requires version '2.7.0' or newer of 'numexpr' (version '2.6.9' currently installed).\n",
      "  warnings.warn(msg, UserWarning)\n",
      "C:\\Users\\user\\Anaconda3\\lib\\site-packages\\statsmodels\\tools\\_testing.py:19: FutureWarning: pandas.util.testing is deprecated. Use the functions in the public API at pandas.testing instead.\n",
      "  import pandas.util.testing as tm\n"
     ]
    }
   ],
   "source": [
    "# Load packages\n",
    "import pandas as pd \n",
    "import numpy as np\n",
    "import matplotlib.pyplot as plt\n",
    "import seaborn as sns\n",
    "import logging\n",
    "import pickle\n",
    "\n",
    "\n",
    "#import Machine Learning libraries\n",
    "from sklearn.preprocessing import LabelEncoder\n",
    "from sklearn.impute import KNNImputer"
   ]
  },
  {
   "cell_type": "code",
   "execution_count": 6,
   "metadata": {},
   "outputs": [],
   "source": [
    "# Read Data \n",
    "raw_df = pd.read_pickle(EXPORT_PATH)"
   ]
  },
  {
   "cell_type": "code",
   "execution_count": 7,
   "metadata": {},
   "outputs": [],
   "source": [
    "df = raw_df.copy()"
   ]
  },
  {
   "cell_type": "code",
   "execution_count": 8,
   "metadata": {},
   "outputs": [],
   "source": [
    "# 01 Checking the Duplicates and Drop them"
   ]
  },
  {
   "cell_type": "code",
   "execution_count": 9,
   "metadata": {},
   "outputs": [
    {
     "data": {
      "text/plain": [
       "0"
      ]
     },
     "execution_count": 9,
     "metadata": {},
     "output_type": "execute_result"
    }
   ],
   "source": [
    "df.duplicated().sum()"
   ]
  },
  {
   "cell_type": "code",
   "execution_count": 10,
   "metadata": {},
   "outputs": [],
   "source": [
    "#we don't have any duplicates\n",
    "#02 Finding Null Values"
   ]
  },
  {
   "cell_type": "code",
   "execution_count": 11,
   "metadata": {},
   "outputs": [
    {
     "data": {
      "text/plain": [
       "id                              0\n",
       "date_account_created            0\n",
       "timestamp_first_active          0\n",
       "date_first_booking         124543\n",
       "gender                          0\n",
       "age                         87990\n",
       "signup_method                   0\n",
       "signup_flow                     0\n",
       "language                        0\n",
       "affiliate_channel               0\n",
       "affiliate_provider              0\n",
       "first_affiliate_tracked      6065\n",
       "signup_app                      0\n",
       "first_device_type               0\n",
       "first_browser                   0\n",
       "country_destination             0\n",
       "dtype: int64"
      ]
     },
     "execution_count": 11,
     "metadata": {},
     "output_type": "execute_result"
    }
   ],
   "source": [
    "df.isnull().sum()"
   ]
  },
  {
   "cell_type": "code",
   "execution_count": 12,
   "metadata": {},
   "outputs": [
    {
     "data": {
      "text/plain": [
       "id                         0.000000\n",
       "date_account_created       0.000000\n",
       "timestamp_first_active     0.000000\n",
       "date_first_booking         0.583473\n",
       "gender                     0.000000\n",
       "age                        0.412226\n",
       "signup_method              0.000000\n",
       "signup_flow                0.000000\n",
       "language                   0.000000\n",
       "affiliate_channel          0.000000\n",
       "affiliate_provider         0.000000\n",
       "first_affiliate_tracked    0.028414\n",
       "signup_app                 0.000000\n",
       "first_device_type          0.000000\n",
       "first_browser              0.000000\n",
       "country_destination        0.000000\n",
       "dtype: float64"
      ]
     },
     "execution_count": 12,
     "metadata": {},
     "output_type": "execute_result"
    }
   ],
   "source": [
    "df.isnull().sum()/len(df)"
   ]
  },
  {
   "cell_type": "code",
   "execution_count": 13,
   "metadata": {},
   "outputs": [
    {
     "data": {
      "text/plain": [
       "<matplotlib.axes._subplots.AxesSubplot at 0x27cfaadfe10>"
      ]
     },
     "execution_count": 13,
     "metadata": {},
     "output_type": "execute_result"
    },
    {
     "data": {
      "image/png": "[encoded data removed]",
      "text/plain": [
       "<Figure size 1440x576 with 1 Axes>"
      ]
     },
     "metadata": {
      "needs_background": "light"
     },
     "output_type": "display_data"
    }
   ],
   "source": [
    "#Null value Analysis percejtage\n",
    "plt.figure(figsize = (20,8))\n",
    "sns.heatmap(df.isnull(), yticklabels = False, cbar = False ,cmap='viridis')"
   ]
  },
  {
   "cell_type": "code",
   "execution_count": 14,
   "metadata": {},
   "outputs": [
    {
     "name": "stdout",
     "output_type": "stream",
     "text": [
      "Date first booking null %% =  58.34734904029496 %\n",
      "\n",
      "Age null %% =  41.222575673105304 %\n",
      "\n",
      "first_affiliate_tracked null %% =  2.84140153946339 %\n",
      "\n"
     ]
    }
   ],
   "source": [
    "df_length = len(df)\n",
    "\n",
    "print('Date first booking null %% = ',(df['date_first_booking'].isnull().sum()/df_length*100),'%\\n')\n",
    "print('Age null %% = ',(df['age'].isnull().sum()/df_length*100),'%\\n')\n",
    "print('first_affiliate_tracked null %% = ',(df['first_affiliate_tracked'].isnull().sum()/df_length*100),'%\\n')"
   ]
  },
  {
   "cell_type": "code",
   "execution_count": 15,
   "metadata": {},
   "outputs": [],
   "source": [
    "#Here we have more than one option :\n",
    "#1. Dropping the whole column which have more than 58% of data Nulls\n",
    "#2. Or keep it and use a model is not affected by te number of nulls as the XGboost.\n",
    "#Checking the number of records with 3 null values in the same row"
   ]
  },
  {
   "cell_type": "code",
   "execution_count": 17,
   "metadata": {},
   "outputs": [
    {
     "name": "stdout",
     "output_type": "stream",
     "text": [
      "2656\n"
     ]
    }
   ],
   "source": [
    "#initialize an empty list to store records with more than 3 nulls \n",
    "records_with_nulls = []\n",
    "\n",
    "#iterate through each row in the dataframe \n",
    "for index, row in df.iterrows():\n",
    "\n",
    "    #count the number of null values in each row \n",
    "    num_nulls = row.isnull().sum()\n",
    "\n",
    "    #if number of null values is greater than 3, append the index to records_with_nulls list \n",
    "    if num_nulls >= 3: \n",
    "        records_with_nulls.append(index)\n",
    "        \n",
    "\n",
    "#print out the indices for records with more than 3 null values  \n",
    "print(len(records_with_nulls))"
   ]
  },
  {
   "cell_type": "code",
   "execution_count": 18,
   "metadata": {},
   "outputs": [
    {
     "name": "stdout",
     "output_type": "stream",
     "text": [
      "The number of rows that have 3 Nulls =  2656\n"
     ]
    }
   ],
   "source": [
    "print(\"The number of rows that have 3 Nulls = \",len(records_with_nulls))"
   ]
  },
  {
   "cell_type": "code",
   "execution_count": 19,
   "metadata": {},
   "outputs": [],
   "source": [
    "df = df.drop(columns = ['date_first_booking'])"
   ]
  },
  {
   "cell_type": "code",
   "execution_count": 20,
   "metadata": {},
   "outputs": [
    {
     "name": "stdout",
     "output_type": "stream",
     "text": [
      "<class 'pandas.core.frame.DataFrame'>\n",
      "RangeIndex: 213451 entries, 0 to 213450\n",
      "Data columns (total 15 columns):\n",
      " #   Column                   Non-Null Count   Dtype         \n",
      "---  ------                   --------------   -----         \n",
      " 0   id                       213451 non-null  object        \n",
      " 1   date_account_created     213451 non-null  datetime64[ns]\n",
      " 2   timestamp_first_active   213451 non-null  datetime64[ns]\n",
      " 3   gender                   213451 non-null  object        \n",
      " 4   age                      125461 non-null  float64       \n",
      " 5   signup_method            213451 non-null  object        \n",
      " 6   signup_flow              213451 non-null  int64         \n",
      " 7   language                 213451 non-null  object        \n",
      " 8   affiliate_channel        213451 non-null  object        \n",
      " 9   affiliate_provider       213451 non-null  object        \n",
      " 10  first_affiliate_tracked  207386 non-null  object        \n",
      " 11  signup_app               213451 non-null  object        \n",
      " 12  first_device_type        213451 non-null  object        \n",
      " 13  first_browser            213451 non-null  object        \n",
      " 14  country_destination      213451 non-null  object        \n",
      "dtypes: datetime64[ns](2), float64(1), int64(1), object(11)\n",
      "memory usage: 24.4+ MB\n"
     ]
    }
   ],
   "source": [
    "df.info()"
   ]
  },
  {
   "cell_type": "code",
   "execution_count": 21,
   "metadata": {},
   "outputs": [
    {
     "name": "stdout",
     "output_type": "stream",
     "text": [
      "781\n",
      "158\n"
     ]
    }
   ],
   "source": [
    "print(len(df[df['age'] > 120]))\n",
    "print(len(df[df['age'] < 18]))"
   ]
  },
  {
   "cell_type": "code",
   "execution_count": 22,
   "metadata": {},
   "outputs": [
    {
     "data": {
      "text/plain": [
       "count    125461.000000\n",
       "mean         49.668335\n",
       "std         155.666612\n",
       "min           1.000000\n",
       "25%          28.000000\n",
       "50%          34.000000\n",
       "75%          43.000000\n",
       "max        2014.000000\n",
       "Name: age, dtype: float64"
      ]
     },
     "execution_count": 22,
     "metadata": {},
     "output_type": "execute_result"
    }
   ],
   "source": [
    "df.age.describe()"
   ]
  },
  {
   "cell_type": "code",
   "execution_count": 23,
   "metadata": {},
   "outputs": [
    {
     "data": {
      "text/plain": [
       "id                             0\n",
       "date_account_created           0\n",
       "timestamp_first_active         0\n",
       "gender                         0\n",
       "age                        87990\n",
       "signup_method                  0\n",
       "signup_flow                    0\n",
       "language                       0\n",
       "affiliate_channel              0\n",
       "affiliate_provider             0\n",
       "first_affiliate_tracked     6065\n",
       "signup_app                     0\n",
       "first_device_type              0\n",
       "first_browser                  0\n",
       "country_destination            0\n",
       "dtype: int64"
      ]
     },
     "execution_count": 23,
     "metadata": {},
     "output_type": "execute_result"
    }
   ],
   "source": [
    "df.isnull().sum()"
   ]
  },
  {
   "cell_type": "code",
   "execution_count": 24,
   "metadata": {},
   "outputs": [
    {
     "data": {
      "text/plain": [
       "94055"
      ]
     },
     "execution_count": 24,
     "metadata": {},
     "output_type": "execute_result"
    }
   ],
   "source": [
    "df.isnull().sum().sum()"
   ]
  },
  {
   "cell_type": "code",
   "execution_count": 25,
   "metadata": {},
   "outputs": [],
   "source": [
    "#Handling Unkowns"
   ]
  },
  {
   "cell_type": "code",
   "execution_count": 26,
   "metadata": {},
   "outputs": [
    {
     "name": "stdout",
     "output_type": "stream",
     "text": [
      "Operation affected 95,688 records in the gender column.\n"
     ]
    },
    {
     "data": {
      "text/plain": [
       "NaN       95688\n",
       "FEMALE    63041\n",
       "MALE      54440\n",
       "OTHER       282\n",
       "Name: gender, dtype: int64"
      ]
     },
     "metadata": {},
     "output_type": "display_data"
    },
    {
     "name": "stdout",
     "output_type": "stream",
     "text": [
      "\n",
      "Operation affected 27,266 records in the first_browser column.\n"
     ]
    },
    {
     "data": {
      "text/plain": [
       "Chrome                  63845\n",
       "Safari                  45169\n",
       "Firefox                 33655\n",
       "NaN                     27266\n",
       "IE                      21068\n",
       "Mobile Safari           19274\n",
       "Chrome Mobile            1270\n",
       "Android Browser           851\n",
       "AOL Explorer              245\n",
       "Opera                     188\n",
       "Silk                      124\n",
       "Chromium                   73\n",
       "BlackBerry Browser         53\n",
       "Maxthon                    46\n",
       "IE Mobile                  36\n",
       "Apple Mail                 36\n",
       "Sogou Explorer             33\n",
       "Mobile Firefox             30\n",
       "SiteKiosk                  24\n",
       "RockMelt                   24\n",
       "Iron                       17\n",
       "IceWeasel                  13\n",
       "Pale Moon                  12\n",
       "SeaMonkey                  11\n",
       "CometBird                  11\n",
       "Yandex.Browser             11\n",
       "Camino                      9\n",
       "TenFourFox                  8\n",
       "CoolNovo                    6\n",
       "wOSBrowser                  6\n",
       "Avant Browser               4\n",
       "Opera Mini                  4\n",
       "Mozilla                     3\n",
       "TheWorld Browser            2\n",
       "Flock                       2\n",
       "Comodo Dragon               2\n",
       "OmniWeb                     2\n",
       "SlimBrowser                 2\n",
       "Crazy Browser               2\n",
       "Opera Mobile                2\n",
       "Epic                        1\n",
       "Stainless                   1\n",
       "Googlebot                   1\n",
       "Outlook 2007                1\n",
       "Arora                       1\n",
       "NetNewsWire                 1\n",
       "PS Vita browser             1\n",
       "Google Earth                1\n",
       "Conkeror                    1\n",
       "Kindle Browser              1\n",
       "Palm Pre web browser        1\n",
       "IceDragon                   1\n",
       "Name: first_browser, dtype: int64"
      ]
     },
     "metadata": {},
     "output_type": "display_data"
    }
   ],
   "source": [
    "# Function to ease handling these values in the test dataset later\n",
    "def handle_unknown(df):\n",
    "    \"\"\"Reduce values '-unknown-' in both gender and first_browser columns to np.nan\"\"\"\n",
    "    print(f\"Operation affected {df.loc[df[df['gender'] == '-unknown-'].index].shape[0]:,} records in the gender column.\")\n",
    "    df.loc[df[df['gender'] == '-unknown-'].index, 'gender'] = np.nan\n",
    "    display(df['gender'].value_counts(dropna=False))\n",
    "    \n",
    "    print(f\"\\nOperation affected {df.loc[df[df['first_browser'] == '-unknown-'].index].shape[0]:,} records in the first_browser column.\")\n",
    "    df.loc[df[df['first_browser'] == '-unknown-'].index, 'first_browser'] = np.nan\n",
    "    display(df['first_browser'].value_counts(dropna=False))\n",
    "\n",
    "# gender and first_browser column in user_data dataset\n",
    "handle_unknown(df)"
   ]
  },
  {
   "cell_type": "code",
   "execution_count": 27,
   "metadata": {},
   "outputs": [
    {
     "name": "stdout",
     "output_type": "stream",
     "text": [
      "count    125461.000000\n",
      "mean         49.668335\n",
      "std         155.666612\n",
      "min           1.000000\n",
      "25%          28.000000\n",
      "50%          34.000000\n",
      "75%          43.000000\n",
      "max        2014.000000\n",
      "Name: age, dtype: float64\n"
     ]
    },
    {
     "data": {
      "image/png": "[encoded data removed]",
      "text/plain": [
       "<Figure size 864x432 with 1 Axes>"
      ]
     },
     "metadata": {
      "needs_background": "light"
     },
     "output_type": "display_data"
    }
   ],
   "source": [
    "print(df['age'].describe())\n",
    "\n",
    "plt.figure(figsize=(12,6))\n",
    "sns.distplot(df.age.dropna())\n",
    "plt.title('Age Distrubtion')\n",
    "plt.show();"
   ]
  },
  {
   "cell_type": "code",
   "execution_count": 28,
   "metadata": {},
   "outputs": [],
   "source": [
    "# Functions to ease the test data processing later\n",
    "\n",
    "def calc_age_from_bdate(df, LB=1900, UB=2000):\n",
    "    \"\"\"\n",
    "    Calculate the age by subtracting the presumed birth date from the account creation date\n",
    "    \"\"\"\n",
    "    \n",
    "    bdate_index = df[np.logical_and(df['age'] > LB, df['age'] < UB)]['age'].index\n",
    "    print(f\"Operation affected {df.loc[bdate_index].shape[0]:,} records.\")\n",
    "    df.loc[bdate_index, 'age'] = (df.loc[bdate_index]['date_account_created'].dt.year - df.loc[bdate_index]['age'])\n",
    "    \n",
    "    \n",
    "def nullify_age_outliers(df, LB=18, UB=120):\n",
    "    \"\"\"\n",
    "    Reduce records containing age values outside the interval [LB, UB] exclusive to np.nan.\n",
    "    \"\"\"\n",
    "    \n",
    "    print(f\"Upperbound Operation affected {df.loc[df[df['age'] > UB].index].shape[0]:,} records.\")\n",
    "    df.loc[df[df['age'] > UB].index, 'age'] = np.nan\n",
    "    \n",
    "    print(f\"Lowerbound Operation affected {df.loc[df[df['age'] < LB].index].shape[0]:,} records.\")\n",
    "    df.loc[df[df['age'] < LB].index, 'age'] = np.nan"
   ]
  },
  {
   "cell_type": "code",
   "execution_count": 29,
   "metadata": {},
   "outputs": [
    {
     "name": "stdout",
     "output_type": "stream",
     "text": [
      "Operation affected 29 records.\n"
     ]
    }
   ],
   "source": [
    "# Calculate the age by subtracting the presumed birth date from the account creation date \n",
    "\n",
    "calc_age_from_bdate(df)"
   ]
  },
  {
   "cell_type": "code",
   "execution_count": 30,
   "metadata": {},
   "outputs": [
    {
     "name": "stdout",
     "output_type": "stream",
     "text": [
      "Upperbound Operation affected 752 records.\n",
      "Lowerbound Operation affected 158 records.\n"
     ]
    }
   ],
   "source": [
    "# Reduce records containing age values outside the interval [18, 120] exclusive to np.nan\n",
    "\n",
    "nullify_age_outliers(df)"
   ]
  },
  {
   "cell_type": "code",
   "execution_count": 31,
   "metadata": {},
   "outputs": [
    {
     "name": "stdout",
     "output_type": "stream",
     "text": [
      "count    124551.000000\n",
      "mean         37.452835\n",
      "std          13.943147\n",
      "min          18.000000\n",
      "25%          28.000000\n",
      "50%          34.000000\n",
      "75%          43.000000\n",
      "max         115.000000\n",
      "Name: age, dtype: float64\n"
     ]
    },
    {
     "data": {
      "image/png": "[encoded data removed]",
      "text/plain": [
       "<Figure size 864x432 with 1 Axes>"
      ]
     },
     "metadata": {
      "needs_background": "light"
     },
     "output_type": "display_data"
    }
   ],
   "source": [
    "print(df['age'].describe())\n",
    "\n",
    "plt.figure(figsize=(12,6))\n",
    "sns.distplot(df.age.dropna())\n",
    "plt.title('Age Distrubtion')\n",
    "plt.show()"
   ]
  },
  {
   "cell_type": "code",
   "execution_count": 32,
   "metadata": {},
   "outputs": [
    {
     "data": {
      "text/plain": [
       "id                             0\n",
       "date_account_created           0\n",
       "timestamp_first_active         0\n",
       "gender                     95688\n",
       "age                        88900\n",
       "signup_method                  0\n",
       "signup_flow                    0\n",
       "language                       0\n",
       "affiliate_channel              0\n",
       "affiliate_provider             0\n",
       "first_affiliate_tracked     6065\n",
       "signup_app                     0\n",
       "first_device_type              0\n",
       "first_browser              27266\n",
       "country_destination            0\n",
       "dtype: int64"
      ]
     },
     "execution_count": 32,
     "metadata": {},
     "output_type": "execute_result"
    }
   ],
   "source": [
    "df.isnull().sum()"
   ]
  },
  {
   "cell_type": "code",
   "execution_count": 33,
   "metadata": {},
   "outputs": [
    {
     "data": {
      "text/plain": [
       "217919"
      ]
     },
     "execution_count": 33,
     "metadata": {},
     "output_type": "execute_result"
    }
   ],
   "source": [
    "df.isnull().sum().sum()"
   ]
  },
  {
   "cell_type": "code",
   "execution_count": 34,
   "metadata": {},
   "outputs": [],
   "source": [
    "#Handling Null values"
   ]
  },
  {
   "cell_type": "code",
   "execution_count": 35,
   "metadata": {},
   "outputs": [],
   "source": [
    "MEDIAN_AGE = df.age.median()\n",
    "FIRST_AFFILIATE_TRACKED = 'untracked'"
   ]
  },
  {
   "cell_type": "code",
   "execution_count": 36,
   "metadata": {},
   "outputs": [],
   "source": [
    "# Functions to ease test data processing later\n",
    "\n",
    "def fill_age_nulls(df):\n",
    "    \"\"\"\n",
    "    Fill the null values in both age column.\n",
    "    Must set the Constant MEDIAN_AGE before using the function.\n",
    "    \"\"\"\n",
    "    \n",
    "    print(f\"Operation affected {df.isna().sum().age:,} records in the age column.\")\n",
    "    df.age.fillna(MEDIAN_AGE, inplace=True)\n",
    "    \n",
    "    \n",
    "def fill_FAT_nulls(df):\n",
    "    \"\"\"\n",
    "    Fill the null values in first_affiliate_tracked column.\n",
    "    Must set the Constant FIRST_AFFILIATE_TRACKED before using the function.\n",
    "    \"\"\"\n",
    "    \n",
    "    print(f\"Operation affected {df.isna().sum().first_affiliate_tracked:,} records in the first_affiliate_tracked column.\")\n",
    "    df.first_affiliate_tracked.fillna(FIRST_AFFILIATE_TRACKED, inplace=True)"
   ]
  },
  {
   "cell_type": "code",
   "execution_count": 37,
   "metadata": {},
   "outputs": [
    {
     "name": "stdout",
     "output_type": "stream",
     "text": [
      "Operation affected 88,900 records in the age column.\n",
      "Operation affected 6,065 records in the first_affiliate_tracked column.\n"
     ]
    }
   ],
   "source": [
    "fill_age_nulls(df)\n",
    "fill_FAT_nulls(df)"
   ]
  },
  {
   "cell_type": "code",
   "execution_count": 38,
   "metadata": {},
   "outputs": [
    {
     "data": {
      "text/plain": [
       "id                             0\n",
       "date_account_created           0\n",
       "timestamp_first_active         0\n",
       "gender                     95688\n",
       "age                            0\n",
       "signup_method                  0\n",
       "signup_flow                    0\n",
       "language                       0\n",
       "affiliate_channel              0\n",
       "affiliate_provider             0\n",
       "first_affiliate_tracked        0\n",
       "signup_app                     0\n",
       "first_device_type              0\n",
       "first_browser              27266\n",
       "country_destination            0\n",
       "dtype: int64"
      ]
     },
     "execution_count": 38,
     "metadata": {},
     "output_type": "execute_result"
    }
   ],
   "source": [
    "df.isnull().sum()"
   ]
  },
  {
   "cell_type": "code",
   "execution_count": 39,
   "metadata": {},
   "outputs": [
    {
     "data": {
      "text/plain": [
       "122954"
      ]
     },
     "execution_count": 39,
     "metadata": {},
     "output_type": "execute_result"
    }
   ],
   "source": [
    "df.isnull().sum().sum()"
   ]
  },
  {
   "cell_type": "code",
   "execution_count": 40,
   "metadata": {},
   "outputs": [],
   "source": [
    "#we still have nulls in the {Gender & first_Browser} We can handle that by:\n",
    "#Using Machine learning model like KNN model.\n",
    "#Using random values.\n",
    "#Use the most common value.\n",
    "#Let them as they're and use a robust model with Nulls like XGboost."
   ]
  },
  {
   "cell_type": "code",
   "execution_count": 41,
   "metadata": {},
   "outputs": [],
   "source": [
    "# Filling with the most common value\n",
    "# df['gender'].fillna(df['gender'].mode()[0], inplace=True)"
   ]
  },
  {
   "cell_type": "code",
   "execution_count": 42,
   "metadata": {},
   "outputs": [
    {
     "data": {
      "text/plain": [
       "FEMALE    63041\n",
       "MALE      54440\n",
       "OTHER       282\n",
       "Name: gender, dtype: int64"
      ]
     },
     "execution_count": 42,
     "metadata": {},
     "output_type": "execute_result"
    }
   ],
   "source": [
    "df.gender.value_counts()"
   ]
  },
  {
   "cell_type": "code",
   "execution_count": 43,
   "metadata": {},
   "outputs": [
    {
     "data": {
      "text/plain": [
       "95688"
      ]
     },
     "execution_count": 43,
     "metadata": {},
     "output_type": "execute_result"
    }
   ],
   "source": [
    "df.gender.isna().sum()"
   ]
  },
  {
   "cell_type": "code",
   "execution_count": 44,
   "metadata": {},
   "outputs": [
    {
     "data": {
      "text/html": [
       "<div>\n",
       "<style scoped>\n",
       "    .dataframe tbody tr th:only-of-type {\n",
       "        vertical-align: middle;\n",
       "    }\n",
       "\n",
       "    .dataframe tbody tr th {\n",
       "        vertical-align: top;\n",
       "    }\n",
       "\n",
       "    .dataframe thead th {\n",
       "        text-align: right;\n",
       "    }\n",
       "</style>\n",
       "<table border=\"1\" class=\"dataframe\">\n",
       "  <thead>\n",
       "    <tr style=\"text-align: right;\">\n",
       "      <th></th>\n",
       "      <th>id</th>\n",
       "      <th>date_account_created</th>\n",
       "      <th>timestamp_first_active</th>\n",
       "      <th>gender</th>\n",
       "      <th>age</th>\n",
       "      <th>signup_method</th>\n",
       "      <th>signup_flow</th>\n",
       "      <th>language</th>\n",
       "      <th>affiliate_channel</th>\n",
       "      <th>affiliate_provider</th>\n",
       "      <th>first_affiliate_tracked</th>\n",
       "      <th>signup_app</th>\n",
       "      <th>first_device_type</th>\n",
       "      <th>first_browser</th>\n",
       "      <th>country_destination</th>\n",
       "    </tr>\n",
       "  </thead>\n",
       "  <tbody>\n",
       "    <tr>\n",
       "      <th>0</th>\n",
       "      <td>gxn3p5htnn</td>\n",
       "      <td>2010-06-28</td>\n",
       "      <td>2009-03-19 04:32:55</td>\n",
       "      <td>NaN</td>\n",
       "      <td>34.0</td>\n",
       "      <td>facebook</td>\n",
       "      <td>0</td>\n",
       "      <td>en</td>\n",
       "      <td>direct</td>\n",
       "      <td>direct</td>\n",
       "      <td>untracked</td>\n",
       "      <td>Web</td>\n",
       "      <td>Mac Desktop</td>\n",
       "      <td>Chrome</td>\n",
       "      <td>NDF</td>\n",
       "    </tr>\n",
       "    <tr>\n",
       "      <th>1</th>\n",
       "      <td>820tgsjxq7</td>\n",
       "      <td>2011-05-25</td>\n",
       "      <td>2009-05-23 17:48:09</td>\n",
       "      <td>MALE</td>\n",
       "      <td>38.0</td>\n",
       "      <td>facebook</td>\n",
       "      <td>0</td>\n",
       "      <td>en</td>\n",
       "      <td>seo</td>\n",
       "      <td>google</td>\n",
       "      <td>untracked</td>\n",
       "      <td>Web</td>\n",
       "      <td>Mac Desktop</td>\n",
       "      <td>Chrome</td>\n",
       "      <td>NDF</td>\n",
       "    </tr>\n",
       "    <tr>\n",
       "      <th>2</th>\n",
       "      <td>4ft3gnwmtx</td>\n",
       "      <td>2010-09-28</td>\n",
       "      <td>2009-06-09 23:12:47</td>\n",
       "      <td>FEMALE</td>\n",
       "      <td>56.0</td>\n",
       "      <td>basic</td>\n",
       "      <td>3</td>\n",
       "      <td>en</td>\n",
       "      <td>direct</td>\n",
       "      <td>direct</td>\n",
       "      <td>untracked</td>\n",
       "      <td>Web</td>\n",
       "      <td>Windows Desktop</td>\n",
       "      <td>IE</td>\n",
       "      <td>US</td>\n",
       "    </tr>\n",
       "    <tr>\n",
       "      <th>3</th>\n",
       "      <td>bjjt8pjhuk</td>\n",
       "      <td>2011-12-05</td>\n",
       "      <td>2009-10-31 06:01:29</td>\n",
       "      <td>FEMALE</td>\n",
       "      <td>42.0</td>\n",
       "      <td>facebook</td>\n",
       "      <td>0</td>\n",
       "      <td>en</td>\n",
       "      <td>direct</td>\n",
       "      <td>direct</td>\n",
       "      <td>untracked</td>\n",
       "      <td>Web</td>\n",
       "      <td>Mac Desktop</td>\n",
       "      <td>Firefox</td>\n",
       "      <td>other</td>\n",
       "    </tr>\n",
       "    <tr>\n",
       "      <th>4</th>\n",
       "      <td>87mebub9p4</td>\n",
       "      <td>2010-09-14</td>\n",
       "      <td>2009-12-08 06:11:05</td>\n",
       "      <td>NaN</td>\n",
       "      <td>41.0</td>\n",
       "      <td>basic</td>\n",
       "      <td>0</td>\n",
       "      <td>en</td>\n",
       "      <td>direct</td>\n",
       "      <td>direct</td>\n",
       "      <td>untracked</td>\n",
       "      <td>Web</td>\n",
       "      <td>Mac Desktop</td>\n",
       "      <td>Chrome</td>\n",
       "      <td>US</td>\n",
       "    </tr>\n",
       "    <tr>\n",
       "      <th>...</th>\n",
       "      <td>...</td>\n",
       "      <td>...</td>\n",
       "      <td>...</td>\n",
       "      <td>...</td>\n",
       "      <td>...</td>\n",
       "      <td>...</td>\n",
       "      <td>...</td>\n",
       "      <td>...</td>\n",
       "      <td>...</td>\n",
       "      <td>...</td>\n",
       "      <td>...</td>\n",
       "      <td>...</td>\n",
       "      <td>...</td>\n",
       "      <td>...</td>\n",
       "      <td>...</td>\n",
       "    </tr>\n",
       "    <tr>\n",
       "      <th>213446</th>\n",
       "      <td>zxodksqpep</td>\n",
       "      <td>2014-06-30</td>\n",
       "      <td>2014-06-30 23:56:36</td>\n",
       "      <td>MALE</td>\n",
       "      <td>32.0</td>\n",
       "      <td>basic</td>\n",
       "      <td>0</td>\n",
       "      <td>en</td>\n",
       "      <td>sem-brand</td>\n",
       "      <td>google</td>\n",
       "      <td>omg</td>\n",
       "      <td>Web</td>\n",
       "      <td>Mac Desktop</td>\n",
       "      <td>Safari</td>\n",
       "      <td>NDF</td>\n",
       "    </tr>\n",
       "    <tr>\n",
       "      <th>213447</th>\n",
       "      <td>mhewnxesx9</td>\n",
       "      <td>2014-06-30</td>\n",
       "      <td>2014-06-30 23:57:19</td>\n",
       "      <td>NaN</td>\n",
       "      <td>34.0</td>\n",
       "      <td>basic</td>\n",
       "      <td>0</td>\n",
       "      <td>en</td>\n",
       "      <td>direct</td>\n",
       "      <td>direct</td>\n",
       "      <td>linked</td>\n",
       "      <td>Web</td>\n",
       "      <td>Windows Desktop</td>\n",
       "      <td>Chrome</td>\n",
       "      <td>NDF</td>\n",
       "    </tr>\n",
       "    <tr>\n",
       "      <th>213448</th>\n",
       "      <td>6o3arsjbb4</td>\n",
       "      <td>2014-06-30</td>\n",
       "      <td>2014-06-30 23:57:54</td>\n",
       "      <td>NaN</td>\n",
       "      <td>32.0</td>\n",
       "      <td>basic</td>\n",
       "      <td>0</td>\n",
       "      <td>en</td>\n",
       "      <td>direct</td>\n",
       "      <td>direct</td>\n",
       "      <td>untracked</td>\n",
       "      <td>Web</td>\n",
       "      <td>Mac Desktop</td>\n",
       "      <td>Firefox</td>\n",
       "      <td>NDF</td>\n",
       "    </tr>\n",
       "    <tr>\n",
       "      <th>213449</th>\n",
       "      <td>jh95kwisub</td>\n",
       "      <td>2014-06-30</td>\n",
       "      <td>2014-06-30 23:58:22</td>\n",
       "      <td>NaN</td>\n",
       "      <td>34.0</td>\n",
       "      <td>basic</td>\n",
       "      <td>25</td>\n",
       "      <td>en</td>\n",
       "      <td>other</td>\n",
       "      <td>other</td>\n",
       "      <td>tracked-other</td>\n",
       "      <td>iOS</td>\n",
       "      <td>iPhone</td>\n",
       "      <td>Mobile Safari</td>\n",
       "      <td>NDF</td>\n",
       "    </tr>\n",
       "    <tr>\n",
       "      <th>213450</th>\n",
       "      <td>nw9fwlyb5f</td>\n",
       "      <td>2014-06-30</td>\n",
       "      <td>2014-06-30 23:58:24</td>\n",
       "      <td>NaN</td>\n",
       "      <td>34.0</td>\n",
       "      <td>basic</td>\n",
       "      <td>25</td>\n",
       "      <td>en</td>\n",
       "      <td>direct</td>\n",
       "      <td>direct</td>\n",
       "      <td>untracked</td>\n",
       "      <td>iOS</td>\n",
       "      <td>iPhone</td>\n",
       "      <td>NaN</td>\n",
       "      <td>NDF</td>\n",
       "    </tr>\n",
       "  </tbody>\n",
       "</table>\n",
       "<p>213451 rows × 15 columns</p>\n",
       "</div>"
      ],
      "text/plain": [
       "                id date_account_created timestamp_first_active  gender   age  \\\n",
       "0       gxn3p5htnn           2010-06-28    2009-03-19 04:32:55     NaN  34.0   \n",
       "1       820tgsjxq7           2011-05-25    2009-05-23 17:48:09    MALE  38.0   \n",
       "2       4ft3gnwmtx           2010-09-28    2009-06-09 23:12:47  FEMALE  56.0   \n",
       "3       bjjt8pjhuk           2011-12-05    2009-10-31 06:01:29  FEMALE  42.0   \n",
       "4       87mebub9p4           2010-09-14    2009-12-08 06:11:05     NaN  41.0   \n",
       "...            ...                  ...                    ...     ...   ...   \n",
       "213446  zxodksqpep           2014-06-30    2014-06-30 23:56:36    MALE  32.0   \n",
       "213447  mhewnxesx9           2014-06-30    2014-06-30 23:57:19     NaN  34.0   \n",
       "213448  6o3arsjbb4           2014-06-30    2014-06-30 23:57:54     NaN  32.0   \n",
       "213449  jh95kwisub           2014-06-30    2014-06-30 23:58:22     NaN  34.0   \n",
       "213450  nw9fwlyb5f           2014-06-30    2014-06-30 23:58:24     NaN  34.0   \n",
       "\n",
       "       signup_method  signup_flow language affiliate_channel  \\\n",
       "0           facebook            0       en            direct   \n",
       "1           facebook            0       en               seo   \n",
       "2              basic            3       en            direct   \n",
       "3           facebook            0       en            direct   \n",
       "4              basic            0       en            direct   \n",
       "...              ...          ...      ...               ...   \n",
       "213446         basic            0       en         sem-brand   \n",
       "213447         basic            0       en            direct   \n",
       "213448         basic            0       en            direct   \n",
       "213449         basic           25       en             other   \n",
       "213450         basic           25       en            direct   \n",
       "\n",
       "       affiliate_provider first_affiliate_tracked signup_app  \\\n",
       "0                  direct               untracked        Web   \n",
       "1                  google               untracked        Web   \n",
       "2                  direct               untracked        Web   \n",
       "3                  direct               untracked        Web   \n",
       "4                  direct               untracked        Web   \n",
       "...                   ...                     ...        ...   \n",
       "213446             google                     omg        Web   \n",
       "213447             direct                  linked        Web   \n",
       "213448             direct               untracked        Web   \n",
       "213449              other           tracked-other        iOS   \n",
       "213450             direct               untracked        iOS   \n",
       "\n",
       "       first_device_type  first_browser country_destination  \n",
       "0            Mac Desktop         Chrome                 NDF  \n",
       "1            Mac Desktop         Chrome                 NDF  \n",
       "2        Windows Desktop             IE                  US  \n",
       "3            Mac Desktop        Firefox               other  \n",
       "4            Mac Desktop         Chrome                  US  \n",
       "...                  ...            ...                 ...  \n",
       "213446       Mac Desktop         Safari                 NDF  \n",
       "213447   Windows Desktop         Chrome                 NDF  \n",
       "213448       Mac Desktop        Firefox                 NDF  \n",
       "213449            iPhone  Mobile Safari                 NDF  \n",
       "213450            iPhone            NaN                 NDF  \n",
       "\n",
       "[213451 rows x 15 columns]"
      ]
     },
     "execution_count": 44,
     "metadata": {},
     "output_type": "execute_result"
    }
   ],
   "source": [
    "df"
   ]
  },
  {
   "cell_type": "code",
   "execution_count": 45,
   "metadata": {},
   "outputs": [
    {
     "name": "stdout",
     "output_type": "stream",
     "text": [
      "                id date_account_created timestamp_first_active  gender   age  \\\n",
      "0       gxn3p5htnn           2010-06-28    2009-03-19 04:32:55       3  34.0   \n",
      "1       820tgsjxq7           2011-05-25    2009-05-23 17:48:09       1  38.0   \n",
      "2       4ft3gnwmtx           2010-09-28    2009-06-09 23:12:47       0  56.0   \n",
      "3       bjjt8pjhuk           2011-12-05    2009-10-31 06:01:29       0  42.0   \n",
      "4       87mebub9p4           2010-09-14    2009-12-08 06:11:05       3  41.0   \n",
      "...            ...                  ...                    ...     ...   ...   \n",
      "213446  zxodksqpep           2014-06-30    2014-06-30 23:56:36       1  32.0   \n",
      "213447  mhewnxesx9           2014-06-30    2014-06-30 23:57:19       3  34.0   \n",
      "213448  6o3arsjbb4           2014-06-30    2014-06-30 23:57:54       3  32.0   \n",
      "213449  jh95kwisub           2014-06-30    2014-06-30 23:58:22       3  34.0   \n",
      "213450  nw9fwlyb5f           2014-06-30    2014-06-30 23:58:24       3  34.0   \n",
      "\n",
      "       signup_method  signup_flow language affiliate_channel  \\\n",
      "0           facebook            0       en            direct   \n",
      "1           facebook            0       en               seo   \n",
      "2              basic            3       en            direct   \n",
      "3           facebook            0       en            direct   \n",
      "4              basic            0       en            direct   \n",
      "...              ...          ...      ...               ...   \n",
      "213446         basic            0       en         sem-brand   \n",
      "213447         basic            0       en            direct   \n",
      "213448         basic            0       en            direct   \n",
      "213449         basic           25       en             other   \n",
      "213450         basic           25       en            direct   \n",
      "\n",
      "       affiliate_provider first_affiliate_tracked signup_app  \\\n",
      "0                  direct               untracked        Web   \n",
      "1                  google               untracked        Web   \n",
      "2                  direct               untracked        Web   \n",
      "3                  direct               untracked        Web   \n",
      "4                  direct               untracked        Web   \n",
      "...                   ...                     ...        ...   \n",
      "213446             google                     omg        Web   \n",
      "213447             direct                  linked        Web   \n",
      "213448             direct               untracked        Web   \n",
      "213449              other           tracked-other        iOS   \n",
      "213450             direct               untracked        iOS   \n",
      "\n",
      "       first_device_type  first_browser country_destination  \n",
      "0            Mac Desktop         Chrome                 NDF  \n",
      "1            Mac Desktop         Chrome                 NDF  \n",
      "2        Windows Desktop             IE                  US  \n",
      "3            Mac Desktop        Firefox               other  \n",
      "4            Mac Desktop         Chrome                  US  \n",
      "...                  ...            ...                 ...  \n",
      "213446       Mac Desktop         Safari                 NDF  \n",
      "213447   Windows Desktop         Chrome                 NDF  \n",
      "213448       Mac Desktop        Firefox                 NDF  \n",
      "213449            iPhone  Mobile Safari                 NDF  \n",
      "213450            iPhone            NaN                 NDF  \n",
      "\n",
      "[213451 rows x 15 columns]\n",
      "34.0     93929\n",
      "30.0      6124\n",
      "31.0      6016\n",
      "29.0      5963\n",
      "28.0      5939\n",
      "         ...  \n",
      "94.0        12\n",
      "97.0        10\n",
      "113.0        4\n",
      "111.0        2\n",
      "112.0        1\n",
      "Name: age, Length: 97, dtype: int64\n"
     ]
    }
   ],
   "source": [
    "#label encoding the gender column \n",
    "le = LabelEncoder() \n",
    "df['gender']= le.fit_transform(df['gender']) \n",
    "print(df) \n",
    "\n",
    "#applying knn imputer on the nans  \n",
    "imputer = KNNImputer(n_neighbors=2) \n",
    "df['gender'] = imputer.fit_transform(df[['gender']]) \n",
    "\n",
    " #converting back to original labels  \n",
    "# df['gender'] = le.inverse_transform(df['gender']) \n",
    "\n",
    "#final output  \n",
    "print(df.age.value_counts())"
   ]
  },
  {
   "cell_type": "code",
   "execution_count": 48,
   "metadata": {},
   "outputs": [
    {
     "data": {
      "text/plain": [
       "0"
      ]
     },
     "execution_count": 48,
     "metadata": {},
     "output_type": "execute_result"
    }
   ],
   "source": [
    "df.gender.isna().sum()"
   ]
  },
  {
   "cell_type": "code",
   "execution_count": 49,
   "metadata": {},
   "outputs": [
    {
     "data": {
      "text/plain": [
       "id                             0\n",
       "date_account_created           0\n",
       "timestamp_first_active         0\n",
       "gender                         0\n",
       "age                            0\n",
       "signup_method                  0\n",
       "signup_flow                    0\n",
       "language                       0\n",
       "affiliate_channel              0\n",
       "affiliate_provider             0\n",
       "first_affiliate_tracked        0\n",
       "signup_app                     0\n",
       "first_device_type              0\n",
       "first_browser              27266\n",
       "country_destination            0\n",
       "dtype: int64"
      ]
     },
     "execution_count": 49,
     "metadata": {},
     "output_type": "execute_result"
    }
   ],
   "source": [
    "df.isna().sum()"
   ]
  },
  {
   "cell_type": "code",
   "execution_count": 50,
   "metadata": {},
   "outputs": [
    {
     "data": {
      "text/plain": [
       "27266"
      ]
     },
     "execution_count": 50,
     "metadata": {},
     "output_type": "execute_result"
    }
   ],
   "source": [
    "df.isna().sum().sum()"
   ]
  },
  {
   "cell_type": "code",
   "execution_count": 51,
   "metadata": {},
   "outputs": [
    {
     "name": "stdout",
     "output_type": "stream",
     "text": [
      "7.0     63845\n",
      "40.0    45169\n",
      "16.0    33655\n",
      "51.0    27266\n",
      "20.0    21068\n",
      "28.0    19274\n",
      "8.0      1270\n",
      "1.0       851\n",
      "0.0       245\n",
      "32.0      188\n",
      "42.0      124\n",
      "9.0        73\n",
      "5.0        53\n",
      "26.0       46\n",
      "21.0       36\n",
      "2.0        36\n",
      "45.0       33\n",
      "27.0       30\n",
      "43.0       24\n",
      "39.0       24\n",
      "24.0       17\n",
      "23.0       13\n",
      "37.0       12\n",
      "41.0       11\n",
      "10.0       11\n",
      "49.0       11\n",
      "6.0         9\n",
      "47.0        8\n",
      "13.0        6\n",
      "50.0        6\n",
      "4.0         4\n",
      "33.0        4\n",
      "29.0        3\n",
      "48.0        2\n",
      "17.0        2\n",
      "11.0        2\n",
      "31.0        2\n",
      "44.0        2\n",
      "14.0        2\n",
      "34.0        2\n",
      "15.0        1\n",
      "46.0        1\n",
      "19.0        1\n",
      "35.0        1\n",
      "3.0         1\n",
      "30.0        1\n",
      "36.0        1\n",
      "18.0        1\n",
      "12.0        1\n",
      "25.0        1\n",
      "38.0        1\n",
      "22.0        1\n",
      "Name: first_browser, dtype: int64\n"
     ]
    }
   ],
   "source": [
    "#label encoding the gender column \n",
    "le = LabelEncoder() \n",
    "df['first_browser']= le.fit_transform(df['first_browser']) \n",
    "# print(df) \n",
    "\n",
    "#applying knn imputer on the nans  \n",
    "imputer = KNNImputer(n_neighbors=2) \n",
    "df['first_browser'] = imputer.fit_transform(df[['first_browser']]) \n",
    "\n",
    " #converting back to original labels  \n",
    "# df['first_browser'] = le.inverse_transform(df['first_browser']) \n",
    "\n",
    "#final output  \n",
    "print(df.first_browser.value_counts())"
   ]
  },
  {
   "cell_type": "code",
   "execution_count": 52,
   "metadata": {},
   "outputs": [
    {
     "data": {
      "text/plain": [
       "id                         0\n",
       "date_account_created       0\n",
       "timestamp_first_active     0\n",
       "gender                     0\n",
       "age                        0\n",
       "signup_method              0\n",
       "signup_flow                0\n",
       "language                   0\n",
       "affiliate_channel          0\n",
       "affiliate_provider         0\n",
       "first_affiliate_tracked    0\n",
       "signup_app                 0\n",
       "first_device_type          0\n",
       "first_browser              0\n",
       "country_destination        0\n",
       "dtype: int64"
      ]
     },
     "execution_count": 52,
     "metadata": {},
     "output_type": "execute_result"
    }
   ],
   "source": [
    "df.isna().sum()"
   ]
  },
  {
   "cell_type": "code",
   "execution_count": 53,
   "metadata": {},
   "outputs": [],
   "source": [
    "# Exporting Data\n",
    "df.to_pickle(EXPORT_PATH2)"
   ]
  },
  {
   "cell_type": "code",
   "execution_count": null,
   "metadata": {},
   "outputs": [],
   "source": []
  }
 ],
 "metadata": {
  "kernelspec": {
   "display_name": "Python 3",
   "language": "python",
   "name": "python3"
  },
  "language_info": {
   "codemirror_mode": {
    "name": "ipython",
    "version": 3
   },
   "file_extension": ".py",
   "mimetype": "text/x-python",
   "name": "python",
   "nbconvert_exporter": "python",
   "pygments_lexer": "ipython3",
   "version": "3.7.3"
  }
 },
 "nbformat": 4,
 "nbformat_minor": 4
}
